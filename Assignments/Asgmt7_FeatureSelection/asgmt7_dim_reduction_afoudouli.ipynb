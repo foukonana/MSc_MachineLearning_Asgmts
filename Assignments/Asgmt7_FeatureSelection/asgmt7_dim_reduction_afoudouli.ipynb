{
 "metadata": {
  "language_info": {
   "codemirror_mode": {
    "name": "ipython",
    "version": 3
   },
   "file_extension": ".py",
   "mimetype": "text/x-python",
   "name": "python",
   "nbconvert_exporter": "python",
   "pygments_lexer": "ipython3",
   "version": "3.7.9-final"
  },
  "orig_nbformat": 2,
  "kernelspec": {
   "name": "python3",
   "display_name": "Python 3",
   "language": "python"
  }
 },
 "nbformat": 4,
 "nbformat_minor": 2,
 "cells": [
  {
   "source": [
    "## Assignment 7 \n",
    "### Dimensionality reduction\n",
    "\n",
    "In this assignment, the HTRU2 dataset is used that can be found on [UCI Machine Learning Repository](https://archive.ics.uci.edu/ml/datasets/HTRU2).\n",
    "\n",
    "In this workbook, dimensionality reduction techniques are implemented."
   ],
   "cell_type": "markdown",
   "metadata": {}
  },
  {
   "cell_type": "code",
   "execution_count": null,
   "metadata": {},
   "outputs": [],
   "source": [
    "### Introduction\n",
    "Introduction can be found on asgmt7_feat_importance_afoudouli.ipynb"
   ]
  }
 ]
}