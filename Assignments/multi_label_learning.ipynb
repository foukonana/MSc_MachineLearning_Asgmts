{
 "metadata": {
  "language_info": {
   "codemirror_mode": {
    "name": "ipython",
    "version": 3
   },
   "file_extension": ".py",
   "mimetype": "text/x-python",
   "name": "python",
   "nbconvert_exporter": "python",
   "pygments_lexer": "ipython3",
   "version": "3.8.5-final"
  },
  "orig_nbformat": 2,
  "kernelspec": {
   "name": "python3",
   "display_name": "Python 3.8.5 64-bit",
   "metadata": {
    "interpreter": {
     "hash": "d61ca32f69b196e39726d48db934cc6efa84f77269006caf23944fce99b0cb54"
    }
   }
  }
 },
 "nbformat": 4,
 "nbformat_minor": 2,
 "cells": [
  {
   "source": [
    "## Multi-label classification  \n",
    "\n",
    "Often, we may encouter data that can be classified into more than one categories (for example movie genre, items in an image).  \n",
    "However, typical classification tasks involve predicting a single label, as they treat classes as being mutually exclusive.   \n",
    "\n",
    "Multi-Label Classification is the supervised learning problem where an instance may be associated with multiple labels. This is opposed to the traditional task of single-label classification (i.e., multi-class, or binary) where each instance is only associated with a single class label. \n",
    "\n",
    "  \n",
    "\n",
    "### Techniques   \n",
    "\n",
    "There are two main categorizations of methods that can be used to solve for the multi-label classification problem  \n",
    "* problem transformation methods and \n",
    "* algorithm adaptation methods \n",
    "\n",
    "In the first case the learning task is transformed into more or single-label classification tasks. \n",
    "In the second, the algorithms are adapted so that they can handle multi-label data.   \n",
    "\n",
    "\n",
    "<br />\n",
    "\n",
    "The dataset used here is the GoEmotions.  \n",
    "This is a dataset released from Google and it containes the emotions detected in those texts.  \n",
    "It is the largest manually annotated dataset of 58K English Reddit comments, labeled for 27 emotion categories or neutral.  \n",
    "Find the paper on [arXiv.org](https://arxiv.org/abs/2005.00547)"
   ],
   "cell_type": "markdown",
   "metadata": {}
  },
  {
   "cell_type": "code",
   "execution_count": 1,
   "metadata": {},
   "outputs": [],
   "source": [
    "import pathlib\n",
    "import pandas as pd "
   ]
  },
  {
   "cell_type": "code",
   "execution_count": 2,
   "metadata": {},
   "outputs": [],
   "source": [
    "dataset = pathlib.Path.cwd() / 'Datasets/train.tsv'\n",
    "df = pd.read_csv(dataset, sep='\\t', header=None, names=['comment', 'label', 'id'])\n",
    "df['label'] = df['label'].str.split(',')"
   ]
  },
  {
   "cell_type": "code",
   "execution_count": 3,
   "metadata": {},
   "outputs": [],
   "source": [
    "emotion_list = ['admiration', 'amusement', 'anger', 'annoyance', 'approval', 'caring', 'confusion', 'curiosity', 'desire', 'disappointment',                     'disapproval', 'disgust', 'embarrassment', 'excitement', 'fear', 'gratitude', 'grief', 'joy', 'love', 'nervousness', 'optimism',                 'pride', 'realization', 'relief', 'remorse', 'sadness', 'surprise', 'neutral']\n",
    "\n",
    "enkman_mapping = {\n",
    "        \"anger\": [\"anger\", \"annoyance\", \"disapproval\"],\n",
    "        \"disgust\": [\"disgust\"],\n",
    "        \"fear\": [\"fear\", \"nervousness\"],\n",
    "        \"joy\": [\"joy\", \"amusement\", \"approval\", \"excitement\", \"gratitude\",  \"love\", \"optimism\", \"relief\", \"pride\", \"admiration\", \"desire\",                       \"caring\"],\n",
    "        \"sadness\": [\"sadness\", \"disappointment\", \"embarrassment\", \"grief\",  \"remorse\"],\n",
    "        \"surprise\": [\"surprise\", \"realization\", \"confusion\", \"curiosity\"],\n",
    "        \"neutral\": [\"neutral\"],\n",
    "        }\n",
    "enkman_mapping_rev = {v:key for key, value in enkman_mapping.items() for v in value}"
   ]
  },
  {
   "cell_type": "code",
   "execution_count": 4,
   "metadata": {},
   "outputs": [],
   "source": [
    "# function from Google Research analysis \n",
    "def idx2class(idx_list):\n",
    "    arr = []\n",
    "    for i in idx_list:\n",
    "        arr.append(emotion_list[int(i)])\n",
    "    return arr"
   ]
  },
  {
   "cell_type": "code",
   "execution_count": 5,
   "metadata": {},
   "outputs": [],
   "source": [
    "# add emotion label to the label ids\n",
    "df['emotions'] = df['label'].apply(idx2class)\n",
    "\n",
    "# use enkman mapping to reduce the emotions to a list of ['anger', 'disgust', 'fear', 'joy', 'sadness', 'surprise', 'neutral']\n",
    "df['mapped_emotions'] = df['emotions'].apply(lambda x: [enkman_mapping_rev[i] for i in x])\n",
    "\n",
    "# fix issues where ['joy',' joy'] might appear\n",
    "df.loc[df['mapped_emotions'].apply(len)>1, 'mapped_emotions'] = df.loc[df['mapped_emotions'].apply(len)>1, 'mapped_emotions'].apply(lambda x: [emotion for emotion in set(x)])"
   ]
  },
  {
   "cell_type": "code",
   "execution_count": 6,
   "metadata": {},
   "outputs": [
    {
     "output_type": "execute_result",
     "data": {
      "text/plain": [
       "                                              comment    label       id  \\\n",
       "0   My favourite food is anything I didn't have to...     [27]  eebbqej   \n",
       "1   Now if he does off himself, everyone will thin...     [27]  ed00q6i   \n",
       "2                      WHY THE FUCK IS BAYLESS ISOING      [2]  eezlygj   \n",
       "3                         To make her feel threatened     [14]  ed7ypvh   \n",
       "4                              Dirty Southern Wankers      [3]  ed0bdzj   \n",
       "5   OmG pEyToN iSn'T gOoD eNoUgH tO hElP uS iN tHe...     [26]  edvnz26   \n",
       "6   Yes I heard abt the f bombs! That has to be wh...     [15]  ee3b6wu   \n",
       "7   We need more boards and to create a bit more s...  [8, 20]  ef4qmod   \n",
       "8   Damn youtube and outrage drama is super lucrat...      [0]  ed8wbdn   \n",
       "9   It might be linked to the trust factor of your...     [27]  eczgv1o   \n",
       "10  Demographics? I don’t know anybody under 35 wh...      [6]  eel6g5h   \n",
       "11  Aww... she'll probably come around eventually,...   [1, 4]  edex4ki   \n",
       "12  Hello everyone. Im from Toronto as well. Can c...     [27]  ef83m1s   \n",
       "13  R/sleeptrain Might be time for some sleep trai...      [5]  efh7xnk   \n",
       "\n",
       "                 emotions mapped_emotions  \n",
       "0               [neutral]       [neutral]  \n",
       "1               [neutral]       [neutral]  \n",
       "2                 [anger]         [anger]  \n",
       "3                  [fear]          [fear]  \n",
       "4             [annoyance]         [anger]  \n",
       "5              [surprise]      [surprise]  \n",
       "6             [gratitude]           [joy]  \n",
       "7      [desire, optimism]           [joy]  \n",
       "8            [admiration]           [joy]  \n",
       "9               [neutral]       [neutral]  \n",
       "10            [confusion]      [surprise]  \n",
       "11  [amusement, approval]           [joy]  \n",
       "12              [neutral]       [neutral]  \n",
       "13               [caring]           [joy]  "
      ],
      "text/html": "<div>\n<style scoped>\n    .dataframe tbody tr th:only-of-type {\n        vertical-align: middle;\n    }\n\n    .dataframe tbody tr th {\n        vertical-align: top;\n    }\n\n    .dataframe thead th {\n        text-align: right;\n    }\n</style>\n<table border=\"1\" class=\"dataframe\">\n  <thead>\n    <tr style=\"text-align: right;\">\n      <th></th>\n      <th>comment</th>\n      <th>label</th>\n      <th>id</th>\n      <th>emotions</th>\n      <th>mapped_emotions</th>\n    </tr>\n  </thead>\n  <tbody>\n    <tr>\n      <th>0</th>\n      <td>My favourite food is anything I didn't have to...</td>\n      <td>[27]</td>\n      <td>eebbqej</td>\n      <td>[neutral]</td>\n      <td>[neutral]</td>\n    </tr>\n    <tr>\n      <th>1</th>\n      <td>Now if he does off himself, everyone will thin...</td>\n      <td>[27]</td>\n      <td>ed00q6i</td>\n      <td>[neutral]</td>\n      <td>[neutral]</td>\n    </tr>\n    <tr>\n      <th>2</th>\n      <td>WHY THE FUCK IS BAYLESS ISOING</td>\n      <td>[2]</td>\n      <td>eezlygj</td>\n      <td>[anger]</td>\n      <td>[anger]</td>\n    </tr>\n    <tr>\n      <th>3</th>\n      <td>To make her feel threatened</td>\n      <td>[14]</td>\n      <td>ed7ypvh</td>\n      <td>[fear]</td>\n      <td>[fear]</td>\n    </tr>\n    <tr>\n      <th>4</th>\n      <td>Dirty Southern Wankers</td>\n      <td>[3]</td>\n      <td>ed0bdzj</td>\n      <td>[annoyance]</td>\n      <td>[anger]</td>\n    </tr>\n    <tr>\n      <th>5</th>\n      <td>OmG pEyToN iSn'T gOoD eNoUgH tO hElP uS iN tHe...</td>\n      <td>[26]</td>\n      <td>edvnz26</td>\n      <td>[surprise]</td>\n      <td>[surprise]</td>\n    </tr>\n    <tr>\n      <th>6</th>\n      <td>Yes I heard abt the f bombs! That has to be wh...</td>\n      <td>[15]</td>\n      <td>ee3b6wu</td>\n      <td>[gratitude]</td>\n      <td>[joy]</td>\n    </tr>\n    <tr>\n      <th>7</th>\n      <td>We need more boards and to create a bit more s...</td>\n      <td>[8, 20]</td>\n      <td>ef4qmod</td>\n      <td>[desire, optimism]</td>\n      <td>[joy]</td>\n    </tr>\n    <tr>\n      <th>8</th>\n      <td>Damn youtube and outrage drama is super lucrat...</td>\n      <td>[0]</td>\n      <td>ed8wbdn</td>\n      <td>[admiration]</td>\n      <td>[joy]</td>\n    </tr>\n    <tr>\n      <th>9</th>\n      <td>It might be linked to the trust factor of your...</td>\n      <td>[27]</td>\n      <td>eczgv1o</td>\n      <td>[neutral]</td>\n      <td>[neutral]</td>\n    </tr>\n    <tr>\n      <th>10</th>\n      <td>Demographics? I don’t know anybody under 35 wh...</td>\n      <td>[6]</td>\n      <td>eel6g5h</td>\n      <td>[confusion]</td>\n      <td>[surprise]</td>\n    </tr>\n    <tr>\n      <th>11</th>\n      <td>Aww... she'll probably come around eventually,...</td>\n      <td>[1, 4]</td>\n      <td>edex4ki</td>\n      <td>[amusement, approval]</td>\n      <td>[joy]</td>\n    </tr>\n    <tr>\n      <th>12</th>\n      <td>Hello everyone. Im from Toronto as well. Can c...</td>\n      <td>[27]</td>\n      <td>ef83m1s</td>\n      <td>[neutral]</td>\n      <td>[neutral]</td>\n    </tr>\n    <tr>\n      <th>13</th>\n      <td>R/sleeptrain Might be time for some sleep trai...</td>\n      <td>[5]</td>\n      <td>efh7xnk</td>\n      <td>[caring]</td>\n      <td>[joy]</td>\n    </tr>\n  </tbody>\n</table>\n</div>"
     },
     "metadata": {},
     "execution_count": 6
    }
   ],
   "source": [
    "df[:14]"
   ]
  },
  {
   "cell_type": "code",
   "execution_count": null,
   "metadata": {},
   "outputs": [],
   "source": []
  }
 ]
}